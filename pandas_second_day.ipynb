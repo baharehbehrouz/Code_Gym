{
  "nbformat": 4,
  "nbformat_minor": 0,
  "metadata": {
    "colab": {
      "provenance": []
    },
    "kernelspec": {
      "name": "python3",
      "display_name": "Python 3"
    },
    "language_info": {
      "name": "python"
    }
  },
  "cells": [
    {
      "cell_type": "markdown",
      "source": [
        "\n",
        "\n",
        "\n",
        "\n",
        "Pandas is a powerful and popular open-source data manipulation and analysis library for Python. It provides data structures and functions needed to efficiently work with structured data, such as time series, tabular data, and more. The primary data structures in Pandas are the Series and DataFrame.\n",
        "\n",
        "Here are some key features and functionalities of the Pandas library:\n",
        "\n",
        "DataFrame: A DataFrame is a 2-dimensional tabular data structure with labeled axes (rows and columns). It is similar to a spreadsheet or a SQL table. DataFrames are the primary data structure used in Pandas and offer versatile data manipulation capabilities.\n",
        "\n",
        "Series: A Series is a one-dimensional labeled array that can hold any data type. It is similar to a Python list or a 1D NumPy array but comes with additional features and labels for data elements.\n",
        "\n",
        "Data Input/Output: Pandas provides various methods to read data from different sources, including CSV files, Excel files, SQL databases, and more. Similarly, it offers methods to write data to these formats.\n",
        "\n",
        "Data Cleaning and Preprocessing: Pandas offers numerous data cleaning and preprocessing functionalities, such as handling missing values, duplicate data, data normalization, and data transformation.\n",
        "\n",
        "Data Selection and Slicing: Pandas allows you to select specific rows and columns from a DataFrame using labels or positional indexing. It also supports boolean indexing and fancy indexing.\n",
        "\n",
        "Data Aggregation and Grouping: Pandas supports powerful data aggregation and grouping operations, enabling you to summarize and analyze data based on specific criteria.\n",
        "\n",
        "Time Series Analysis: Pandas has extensive support for working with time series data, including time-based indexing, resampling, and time-based calculations.\n",
        "\n",
        "Integration with Other Libraries: Pandas is often used in conjunction with other data science libraries like NumPy, Matplotlib, and Scikit-learn to perform comprehensive data analysis and visualization.\n",
        "\n",
        "To use Pandas, you need to install it first. You can install it using pip:"
      ],
      "metadata": {
        "id": "USXYqSRstkPk"
      }
    },
    {
      "cell_type": "code",
      "source": [
        "pip install pandas\n"
      ],
      "metadata": {
        "id": "qjgO5RL7tpN7"
      },
      "execution_count": null,
      "outputs": []
    },
    {
      "cell_type": "markdown",
      "source": [
        "Once installed, you can import Pandas and start using its functionalities in your Python script or Jupyter Notebook:"
      ],
      "metadata": {
        "id": "fwnii8ddt316"
      }
    },
    {
      "cell_type": "code",
      "source": [
        "import pandas as pd\n",
        "\n",
        "# Example: Create a DataFrame\n",
        "data = {\n",
        "    'Name': ['Alice', 'Bob', 'Charlie', 'David'],\n",
        "    'Age': [25, 30, 35, 40],\n",
        "    'City': ['New York', 'San Francisco', 'London', 'Tokyo']\n",
        "}\n",
        "\n",
        "df = pd.DataFrame(data)\n",
        "print(df)\n"
      ],
      "metadata": {
        "id": "EArktNset2xT"
      },
      "execution_count": null,
      "outputs": []
    },
    {
      "cell_type": "markdown",
      "source": [
        "This is just a brief overview of the Pandas library. It's widely used in the data science community due to its simplicity, efficiency, and flexibility in handling various data-related tasks. For more information and detailed documentation, you can visit the official Pandas website: https://pandas.pydata.org/"
      ],
      "metadata": {
        "id": "7QVNF_2uuBba"
      }
    },
    {
      "cell_type": "markdown",
      "source": [
        "\n",
        "Sure! Let's go through some practical examples for each of the key features and functionalities of the Pandas library:\n",
        "\n",
        "1.DataFrame:"
      ],
      "metadata": {
        "id": "eicitHBvuQZq"
      }
    },
    {
      "cell_type": "code",
      "source": [
        "import pandas as pd\n",
        "\n",
        "# Creating a DataFrame from a dictionary\n",
        "data = {\n",
        "    'Name': ['Alice', 'Bob', 'Charlie', 'David'],\n",
        "    'Age': [25, 30, 35, 40],\n",
        "    'City': ['New York', 'San Francisco', 'London', 'Tokyo']\n",
        "}\n",
        "\n",
        "df = pd.DataFrame(data)\n",
        "print(df)\n"
      ],
      "metadata": {
        "id": "_T5UjdNeuWWT"
      },
      "execution_count": null,
      "outputs": []
    },
    {
      "cell_type": "markdown",
      "source": [
        "2.Series"
      ],
      "metadata": {
        "id": "_Po5IHtguY9T"
      }
    },
    {
      "cell_type": "code",
      "source": [
        "import pandas as pd\n",
        "\n",
        "# Creating a Series\n",
        "ages = pd.Series([25, 30, 35, 40], name='Age')\n",
        "print(ages)\n"
      ],
      "metadata": {
        "id": "hQ_bspm9udFq"
      },
      "execution_count": null,
      "outputs": []
    },
    {
      "cell_type": "markdown",
      "source": [
        "3.Data Input/Output:\n"
      ],
      "metadata": {
        "id": "XcDYxVQYul4T"
      }
    },
    {
      "cell_type": "code",
      "source": [
        "import pandas as pd\n",
        "\n",
        "# Reading data from a CSV file\n",
        "df = pd.read_csv('data.csv')\n",
        "\n",
        "# Writing data to a CSV file\n",
        "df.to_csv('output.csv', index=False)\n",
        "\n",
        "# Reading data from an Excel file\n",
        "df = pd.read_excel('data.xlsx')\n",
        "\n",
        "# Writing data to an Excel file\n",
        "df.to_excel('output.xlsx', index=False)\n"
      ],
      "metadata": {
        "id": "VrHwRRqOunwj"
      },
      "execution_count": null,
      "outputs": []
    },
    {
      "cell_type": "markdown",
      "source": [
        "4.Data Cleaning and Preprocessing:\n"
      ],
      "metadata": {
        "id": "3rGbxmI-uqXa"
      }
    },
    {
      "cell_type": "code",
      "source": [
        "import pandas as pd\n",
        "\n",
        "# Handling missing values\n",
        "df = pd.read_csv('data.csv')\n",
        "df.fillna(0, inplace=True)  # Replace missing values with 0\n",
        "\n",
        "# Removing duplicate rows\n",
        "df.drop_duplicates(inplace=True)\n",
        "\n",
        "# Data transformation\n",
        "df['Age'] = df['Age'].apply(lambda x: x + 1)  # Increment all ages by 1\n"
      ],
      "metadata": {
        "id": "fAAUm7yFux1b"
      },
      "execution_count": null,
      "outputs": []
    },
    {
      "cell_type": "markdown",
      "source": [
        "5.Data Selection and Slicing:\n"
      ],
      "metadata": {
        "id": "lVHXDJ2_u2jD"
      }
    },
    {
      "cell_type": "code",
      "source": [
        "import pandas as pd\n",
        "\n",
        "# Selecting specific columns\n",
        "df = pd.read_csv('data.csv')\n",
        "names = df['Name']\n",
        "\n",
        "# Selecting specific rows based on condition\n",
        "young_people = df[df['Age'] < 30]\n"
      ],
      "metadata": {
        "id": "zXMIKz57u426"
      },
      "execution_count": null,
      "outputs": []
    },
    {
      "cell_type": "markdown",
      "source": [
        "6.Data Aggregation and Grouping:\n"
      ],
      "metadata": {
        "id": "1L0JPeYkvC5S"
      }
    },
    {
      "cell_type": "code",
      "source": [
        "import pandas as pd\n",
        "\n",
        "# Grouping data and calculating mean age for each city\n",
        "df = pd.read_csv('data.csv')\n",
        "mean_age_by_city = df.groupby('City')['Age'].mean()\n",
        "\n",
        "# Aggregating data using multiple functions\n",
        "aggregated_data = df.groupby('City').agg({\n",
        "    'Age': 'mean',\n",
        "    'Salary': 'sum',\n",
        "    'Experience': 'max'\n",
        "})\n"
      ],
      "metadata": {
        "id": "UwCL64wHvEYz"
      },
      "execution_count": null,
      "outputs": []
    },
    {
      "cell_type": "markdown",
      "source": [
        "7.Time Series Analysis:\n"
      ],
      "metadata": {
        "id": "IpkqJ23wvHli"
      }
    },
    {
      "cell_type": "code",
      "source": [
        "import pandas as pd\n",
        "\n",
        "# Creating a time series DataFrame\n",
        "date_rng = pd.date_range(start='2023-01-01', end='2023-01-10', freq='D')\n",
        "data = {'Sales': [100, 150, 200, 120, 180, 210, 90, 220, 250, 300]}\n",
        "df = pd.DataFrame(data, index=date_rng)\n",
        "\n",
        "# Resampling data to weekly frequency\n",
        "weekly_sales = df.resample('W').sum()\n"
      ],
      "metadata": {
        "id": "P496g0n6vLFs"
      },
      "execution_count": null,
      "outputs": []
    },
    {
      "cell_type": "markdown",
      "source": [
        "8.Integration with Other Libraries:\n"
      ],
      "metadata": {
        "id": "N-P1MU6BvRLq"
      }
    },
    {
      "cell_type": "code",
      "source": [
        "import pandas as pd\n",
        "import numpy as np\n",
        "import matplotlib.pyplot as plt\n",
        "from sklearn.linear_model import LinearRegression\n",
        "\n",
        "# Using Pandas and NumPy to create and analyze data\n",
        "data = {\n",
        "    'x': np.arange(10),\n",
        "    'y': np.array([2, 4, 5, 7, 8, 9, 11, 13, 14, 16])\n",
        "}\n",
        "\n",
        "df = pd.DataFrame(data)\n",
        "x = df['x']\n",
        "y = df['y']\n",
        "\n",
        "# Using Pandas and Matplotlib for data visualization\n",
        "plt.plot(x, y, 'o')\n",
        "plt.xlabel('x')\n",
        "plt.ylabel('y')\n",
        "plt.title('Scatter plot')\n",
        "plt.show()\n",
        "\n",
        "# Using Pandas and Scikit-learn for linear regression\n",
        "model = LinearRegression()\n",
        "model.fit(df[['x']], df['y'])\n",
        "predicted_values = model.predict(df[['x']])\n"
      ],
      "metadata": {
        "id": "PMUNmU5evSzC"
      },
      "execution_count": null,
      "outputs": []
    },
    {
      "cell_type": "markdown",
      "source": [
        "These are just a few practical examples of how Pandas can be used in real-world data manipulation, analysis, and visualization tasks. The library's flexibility and simplicity make it an essential tool for data scientists and analysts to work with structured data efficiently."
      ],
      "metadata": {
        "id": "2aDjF3cmvY-j"
      }
    }
  ]
}